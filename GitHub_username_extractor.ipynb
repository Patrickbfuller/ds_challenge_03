{
 "cells": [
  {
   "cell_type": "code",
   "execution_count": 1,
   "metadata": {},
   "outputs": [],
   "source": [
    "import csv\n",
    "\n",
    "with open('data.csv') as f:\n",
    "    reader = csv.reader(f)\n",
    "    data = list(reader)"
   ]
  },
  {
   "cell_type": "code",
   "execution_count": 4,
   "metadata": {},
   "outputs": [
    {
     "data": {
      "text/plain": [
       "[['Name', 'User', 'Links'],\n",
       " ['', '', ''],\n",
       " ['Alec Morgan',\n",
       "  'AlecMorgan',\n",
       "  'https://github.com/AlecMorgan/GitHub-Learning-Project'],\n",
       " ['Alex Shropshire', 'as6140', 'https://github.com/as6140/repotest1'],\n",
       " ['Alexander Bailey', 'ZMBailey', 'https://github.com/ZMBailey/fi_repo1'],\n",
       " ['Andy Luc', 'rokaandy', 'https://github.com/rokaandy/exercise_one'],\n",
       " ['Anna Zubova Bistrova',\n",
       "  'AnnaLara',\n",
       "  'https://github.com/AnnaLara/tuesday_practice'],\n",
       " ['Connor Anderson',\n",
       "  'ConnorAnderson29',\n",
       "  'https://github.com/ConnorAnderson29/Warmup_Repo'],\n",
       " ['David Kaspar',\n",
       "  'UpwardTrajectory',\n",
       "  'https://github.com/UpwardTrajectory/this_is_only_a_test'],\n",
       " ['Hussein Sajid', '', ''],\n",
       " ['Jacob Crabb',\n",
       "  'AlludedCrabb',\n",
       "  'https://github.com/AlludedCrabb/my-school-repo'],\n",
       " ['John Naujoks', 'jnawjux', 'https://github.com/jnawjux/tacos.git'],\n",
       " ['Kayli Schulz', 'kayschulz', 'https://github.com/kayschulz/day_2_warmup'],\n",
       " ['Kevin Velasco', 'kevintheduu', 'https://github.com/kevintheduu/day_two '],\n",
       " ['Laura Shummon Maass',\n",
       "  'Laura-ShummonMaass',\n",
       "  'https://github.com/Laura-ShummonMaass/Day2.git'],\n",
       " ['Lawrence Chew', 'worldyne', 'https://github.com/worldyne/warmup_1-2-2019'],\n",
       " ['Lee Mackey', 'glmack', 'https://github.com/glmack/flatiron-4.2.git'],\n",
       " ['Mando Iwanaga',\n",
       "  'mandoiwanaga',\n",
       "  'https://github.com/mandoiwanaga/how_to_drink_tea.git'],\n",
       " ['Mia Iseman', 'MIAISEMAN', 'https://github.com/MIAISEMAN/haikus'],\n",
       " ['Natasha Kacoroski',\n",
       "  'nkacoroski',\n",
       "  'https://github.com/nkacoroski/second_day.git'],\n",
       " ['Pat Fuller',\n",
       "  'Patrickbfuller',\n",
       "  'https://github.com/Patrickbfuller/practice_git_wk1d2'],\n",
       " ['Sherry Yang',\n",
       "  'sherzyang',\n",
       "  'https://github.com/sherzyang/new_repo/blob/master/sherrys_day.txt'],\n",
       " ['Taeho Jeon', 'Teosoft7', 'https://github.com/Teosoft7/data_mining.git'],\n",
       " ['Tara Greenwood',\n",
       "  'TSGreenwood',\n",
       "  'https://github.com/TSGreenwood/rock_paper_scissors/tree/master/.ipynb_checkpoints'],\n",
       " ['Werlindo Mangrobang',\n",
       "  'angrobanGit',\n",
       "  'https://github.com/MangrobanGit/warmup_190402']]"
      ]
     },
     "execution_count": 4,
     "metadata": {},
     "output_type": "execute_result"
    }
   ],
   "source": [
    "data"
   ]
  },
  {
   "cell_type": "code",
   "execution_count": 5,
   "metadata": {},
   "outputs": [
    {
     "data": {
      "text/plain": [
       "[['Name', 'User', 'Links'],\n",
       " ['', '', ''],\n",
       " ['Alec Morgan',\n",
       "  'AlecMorgan',\n",
       "  'https://github.com/AlecMorgan/GitHub-Learning-Project'],\n",
       " ['Alex Shropshire', 'as6140', 'https://github.com/as6140/repotest1'],\n",
       " ['Alexander Bailey', 'ZMBailey', 'https://github.com/ZMBailey/fi_repo1']]"
      ]
     },
     "execution_count": 5,
     "metadata": {},
     "output_type": "execute_result"
    }
   ],
   "source": [
    "# print out only github usernames\n",
    "data[:5]"
   ]
  },
  {
   "cell_type": "code",
   "execution_count": 6,
   "metadata": {},
   "outputs": [
    {
     "data": {
      "text/plain": [
       "['Name', 'User', 'Links']"
      ]
     },
     "execution_count": 6,
     "metadata": {},
     "output_type": "execute_result"
    }
   ],
   "source": [
    "data[0]"
   ]
  },
  {
   "cell_type": "code",
   "execution_count": 7,
   "metadata": {},
   "outputs": [
    {
     "data": {
      "text/plain": [
       "['', '', '']"
      ]
     },
     "execution_count": 7,
     "metadata": {},
     "output_type": "execute_result"
    }
   ],
   "source": [
    "data[1]"
   ]
  },
  {
   "cell_type": "code",
   "execution_count": 8,
   "metadata": {},
   "outputs": [
    {
     "data": {
      "text/plain": [
       "['Alec Morgan',\n",
       " 'AlecMorgan',\n",
       " 'https://github.com/AlecMorgan/GitHub-Learning-Project']"
      ]
     },
     "execution_count": 8,
     "metadata": {},
     "output_type": "execute_result"
    }
   ],
   "source": [
    "data[2]"
   ]
  },
  {
   "cell_type": "code",
   "execution_count": 9,
   "metadata": {},
   "outputs": [
    {
     "data": {
      "text/plain": [
       "[['Alec Morgan',\n",
       "  'AlecMorgan',\n",
       "  'https://github.com/AlecMorgan/GitHub-Learning-Project'],\n",
       " ['Alex Shropshire', 'as6140', 'https://github.com/as6140/repotest1'],\n",
       " ['Alexander Bailey', 'ZMBailey', 'https://github.com/ZMBailey/fi_repo1'],\n",
       " ['Andy Luc', 'rokaandy', 'https://github.com/rokaandy/exercise_one'],\n",
       " ['Anna Zubova Bistrova',\n",
       "  'AnnaLara',\n",
       "  'https://github.com/AnnaLara/tuesday_practice'],\n",
       " ['Connor Anderson',\n",
       "  'ConnorAnderson29',\n",
       "  'https://github.com/ConnorAnderson29/Warmup_Repo'],\n",
       " ['David Kaspar',\n",
       "  'UpwardTrajectory',\n",
       "  'https://github.com/UpwardTrajectory/this_is_only_a_test'],\n",
       " ['Hussein Sajid', '', ''],\n",
       " ['Jacob Crabb',\n",
       "  'AlludedCrabb',\n",
       "  'https://github.com/AlludedCrabb/my-school-repo'],\n",
       " ['John Naujoks', 'jnawjux', 'https://github.com/jnawjux/tacos.git'],\n",
       " ['Kayli Schulz', 'kayschulz', 'https://github.com/kayschulz/day_2_warmup'],\n",
       " ['Kevin Velasco', 'kevintheduu', 'https://github.com/kevintheduu/day_two '],\n",
       " ['Laura Shummon Maass',\n",
       "  'Laura-ShummonMaass',\n",
       "  'https://github.com/Laura-ShummonMaass/Day2.git'],\n",
       " ['Lawrence Chew', 'worldyne', 'https://github.com/worldyne/warmup_1-2-2019'],\n",
       " ['Lee Mackey', 'glmack', 'https://github.com/glmack/flatiron-4.2.git'],\n",
       " ['Mando Iwanaga',\n",
       "  'mandoiwanaga',\n",
       "  'https://github.com/mandoiwanaga/how_to_drink_tea.git'],\n",
       " ['Mia Iseman', 'MIAISEMAN', 'https://github.com/MIAISEMAN/haikus'],\n",
       " ['Natasha Kacoroski',\n",
       "  'nkacoroski',\n",
       "  'https://github.com/nkacoroski/second_day.git'],\n",
       " ['Pat Fuller',\n",
       "  'Patrickbfuller',\n",
       "  'https://github.com/Patrickbfuller/practice_git_wk1d2'],\n",
       " ['Sherry Yang',\n",
       "  'sherzyang',\n",
       "  'https://github.com/sherzyang/new_repo/blob/master/sherrys_day.txt'],\n",
       " ['Taeho Jeon', 'Teosoft7', 'https://github.com/Teosoft7/data_mining.git'],\n",
       " ['Tara Greenwood',\n",
       "  'TSGreenwood',\n",
       "  'https://github.com/TSGreenwood/rock_paper_scissors/tree/master/.ipynb_checkpoints'],\n",
       " ['Werlindo Mangrobang',\n",
       "  'angrobanGit',\n",
       "  'https://github.com/MangrobanGit/warmup_190402']]"
      ]
     },
     "execution_count": 9,
     "metadata": {},
     "output_type": "execute_result"
    }
   ],
   "source": [
    "data[2:]"
   ]
  },
  {
   "cell_type": "code",
   "execution_count": 10,
   "metadata": {},
   "outputs": [],
   "source": [
    "trimmed_data = data[2:]"
   ]
  },
  {
   "cell_type": "code",
   "execution_count": 12,
   "metadata": {},
   "outputs": [
    {
     "name": "stdout",
     "output_type": "stream",
     "text": [
      "AlecMorgan\n",
      "as6140\n",
      "ZMBailey\n",
      "rokaandy\n",
      "AnnaLara\n",
      "ConnorAnderson29\n",
      "UpwardTrajectory\n",
      "\n",
      "AlludedCrabb\n",
      "jnawjux\n",
      "kayschulz\n",
      "kevintheduu\n",
      "Laura-ShummonMaass\n",
      "worldyne\n",
      "glmack\n",
      "mandoiwanaga\n",
      "MIAISEMAN\n",
      "nkacoroski\n",
      "Patrickbfuller\n",
      "sherzyang\n",
      "Teosoft7\n",
      "TSGreenwood\n",
      "angrobanGit\n"
     ]
    }
   ],
   "source": [
    "for person in trimmed_data:\n",
    "    print(person[1])"
   ]
  },
  {
   "cell_type": "code",
   "execution_count": 14,
   "metadata": {},
   "outputs": [
    {
     "name": "stdout",
     "output_type": "stream",
     "text": [
      "AlecMorgan\n",
      "as6140\n",
      "ZMBailey\n",
      "rokaandy\n",
      "AnnaLara\n",
      "ConnorAnderson29\n",
      "UpwardTrajectory\n",
      "AlludedCrabb\n",
      "jnawjux\n",
      "kayschulz\n",
      "kevintheduu\n",
      "Laura-ShummonMaass\n",
      "worldyne\n",
      "glmack\n",
      "mandoiwanaga\n",
      "MIAISEMAN\n",
      "nkacoroski\n",
      "Patrickbfuller\n",
      "sherzyang\n",
      "Teosoft7\n",
      "TSGreenwood\n",
      "angrobanGit\n"
     ]
    }
   ],
   "source": [
    "for person in trimmed_data:\n",
    "    if person[1]:\n",
    "        print(person[1])"
   ]
  },
  {
   "cell_type": "code",
   "execution_count": 15,
   "metadata": {},
   "outputs": [
    {
     "name": "stdout",
     "output_type": "stream",
     "text": [
      "AlecMorgan\n",
      "as6140\n",
      "ZMBailey\n",
      "rokaandy\n",
      "AnnaLara\n",
      "ConnorAnderson29\n",
      "UpwardTrajectory\n",
      "AlludedCrabb\n",
      "jnawjux\n",
      "kayschulz\n",
      "kevintheduu\n",
      "Laura-ShummonMaass\n",
      "worldyne\n",
      "glmack\n",
      "mandoiwanaga\n",
      "MIAISEMAN\n",
      "nkacoroski\n",
      "Patrickbfuller\n",
      "sherzyang\n",
      "Teosoft7\n",
      "TSGreenwood\n",
      "angrobanGit\n"
     ]
    }
   ],
   "source": [
    "import csv\n",
    "\n",
    "with open('data.csv') as f:\n",
    "    reader = csv.reader(f)\n",
    "    data = list(reader)\n",
    "    \n",
    "for person in data[2:]:\n",
    "    if person[1]:\n",
    "        print(person[1])"
   ]
  },
  {
   "cell_type": "code",
   "execution_count": null,
   "metadata": {},
   "outputs": [],
   "source": []
  }
 ],
 "metadata": {
  "kernelspec": {
   "display_name": "learn-env",
   "language": "python",
   "name": "learn-env"
  },
  "language_info": {
   "codemirror_mode": {
    "name": "ipython",
    "version": 3
   },
   "file_extension": ".py",
   "mimetype": "text/x-python",
   "name": "python",
   "nbconvert_exporter": "python",
   "pygments_lexer": "ipython3",
   "version": "3.6.6"
  }
 },
 "nbformat": 4,
 "nbformat_minor": 2
}
